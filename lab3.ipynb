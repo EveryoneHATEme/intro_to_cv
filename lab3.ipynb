{
 "cells": [
  {
   "cell_type": "code",
   "execution_count": 21,
   "outputs": [],
   "source": [
    "import pickle\n",
    "import tarfile\n",
    "from random import choices\n",
    "from math import inf\n",
    "from itertools import product, cycle\n",
    "import numpy as np\n",
    "import matplotlib.pyplot as plt\n",
    "import requests\n",
    "from tqdm import tqdm"
   ],
   "metadata": {
    "collapsed": false,
    "ExecuteTime": {
     "end_time": "2023-09-14T13:53:39.464596300Z",
     "start_time": "2023-09-14T13:53:39.445599500Z"
    }
   },
   "id": "3573fa8edb047741"
  },
  {
   "cell_type": "code",
   "execution_count": 39,
   "outputs": [],
   "source": [
    "np.random.seed(321)"
   ],
   "metadata": {
    "collapsed": false,
    "ExecuteTime": {
     "end_time": "2023-09-14T14:02:05.972785Z",
     "start_time": "2023-09-14T14:02:05.963680800Z"
    }
   },
   "id": "59f7ece209bc19ee"
  },
  {
   "cell_type": "markdown",
   "source": [
    "# Downloading the dataset"
   ],
   "metadata": {
    "collapsed": false
   },
   "id": "6410577d72ebced1"
  },
  {
   "cell_type": "code",
   "execution_count": 40,
   "outputs": [],
   "source": [
    "def unpickle(file):\n",
    "    \"\"\"\n",
    "    source: https://www.cs.toronto.edu/~kriz/cifar.html\n",
    "    \"\"\"\n",
    "    with open(file, 'rb') as fo:\n",
    "        data = pickle.load(fo, encoding='bytes')\n",
    "    return data"
   ],
   "metadata": {
    "collapsed": false,
    "ExecuteTime": {
     "end_time": "2023-09-14T14:02:06.270569100Z",
     "start_time": "2023-09-14T14:02:06.263025800Z"
    }
   },
   "id": "c7637c7a802bd0c6"
  },
  {
   "cell_type": "code",
   "execution_count": 41,
   "outputs": [],
   "source": [
    "dataset = requests.get('https://www.cs.toronto.edu/~kriz/cifar-10-python.tar.gz')\n",
    "\n",
    "with open('cifar-10-python.tar.gz', 'wb') as dataset_file:\n",
    "    dataset_file.write(dataset.content)"
   ],
   "metadata": {
    "collapsed": false,
    "ExecuteTime": {
     "end_time": "2023-09-14T14:02:22.973091400Z",
     "start_time": "2023-09-14T14:02:06.430467500Z"
    }
   },
   "id": "169573bee4a1cf93"
  },
  {
   "cell_type": "code",
   "execution_count": 42,
   "outputs": [],
   "source": [
    "with tarfile.open('cifar-10-python.tar.gz') as tar:\n",
    "    tar.extractall()"
   ],
   "metadata": {
    "collapsed": false,
    "ExecuteTime": {
     "end_time": "2023-09-14T14:02:24.127427900Z",
     "start_time": "2023-09-14T14:02:22.974090300Z"
    }
   },
   "id": "b3f393d2344697aa"
  },
  {
   "cell_type": "markdown",
   "source": [
    "# \"Training\" the model or preprocessing the dataset"
   ],
   "metadata": {
    "collapsed": false
   },
   "id": "1ea99f3ae4493179"
  },
  {
   "cell_type": "code",
   "execution_count": 43,
   "outputs": [],
   "source": [
    "def process_image(data: np.ndarray) -> np.ndarray:\n",
    "    \"\"\"\n",
    "    \n",
    "    takes image as a row of 3072 elements, \n",
    "    where the first 1024 entries contain the red channel values,\n",
    "    the next 1024 the green, and the final 1024 the blue.\n",
    "    \n",
    "    returns image as an array of shape (32, 32, 3)\n",
    "    \n",
    "    \"\"\"\n",
    "    red_channel, green_channel, blue_channel = np.split(data, 3)\n",
    "    pixels = np.stack((red_channel, green_channel, blue_channel), axis=-1)\n",
    "    return np.reshape(pixels, (32, 32, 3))"
   ],
   "metadata": {
    "collapsed": false,
    "ExecuteTime": {
     "end_time": "2023-09-14T14:02:24.133664400Z",
     "start_time": "2023-09-14T14:02:24.131148700Z"
    }
   },
   "id": "71d6189124b93289"
  },
  {
   "cell_type": "code",
   "execution_count": 44,
   "outputs": [],
   "source": [
    "def process_batch(batch: np.ndarray) -> tuple[list[np.ndarray], list[int]]:\n",
    "    \"\"\"\n",
    "    \n",
    "    processes a batch and returns a tuple of a list of processed images with shape (32, 32, 3) and list of labels\n",
    "    \n",
    "    \"\"\"\n",
    "    batch_images = list(map(process_image, batch[b'data']))\n",
    "    batch_labels = batch[b'labels']\n",
    "    \n",
    "    return batch_images, batch_labels"
   ],
   "metadata": {
    "collapsed": false,
    "ExecuteTime": {
     "end_time": "2023-09-14T14:02:24.142896900Z",
     "start_time": "2023-09-14T14:02:24.137674200Z"
    }
   },
   "id": "bdd128bac29efe62"
  },
  {
   "cell_type": "code",
   "execution_count": 45,
   "outputs": [],
   "source": [
    "batch_filenames = ['cifar-10-batches-py/data_batch_1',\n",
    "                   'cifar-10-batches-py/data_batch_2',\n",
    "                   'cifar-10-batches-py/data_batch_3', \n",
    "                   'cifar-10-batches-py/data_batch_4',\n",
    "                   'cifar-10-batches-py/data_batch_5']\n",
    "\n",
    "train_images, raw_train_labels = [], []\n",
    "for filename in batch_filenames:\n",
    "    current_batch = unpickle(filename)\n",
    "    images, labels = process_batch(current_batch)\n",
    "    train_images.extend(images)\n",
    "    raw_train_labels.extend(labels)"
   ],
   "metadata": {
    "collapsed": false,
    "ExecuteTime": {
     "end_time": "2023-09-14T14:02:25.113312100Z",
     "start_time": "2023-09-14T14:02:24.168888700Z"
    }
   },
   "id": "cf5bbd5f50ba6124"
  },
  {
   "cell_type": "code",
   "execution_count": 46,
   "outputs": [],
   "source": [
    "def one_hot_encoder(labels: list[int]) -> list[np.ndarray]:\n",
    "    encoded: list[np.ndarray] = []\n",
    "    for label in labels:\n",
    "        encoded.append(np.zeros(10))\n",
    "        encoded[-1][label] = 1.0\n",
    "    return encoded"
   ],
   "metadata": {
    "collapsed": false,
    "ExecuteTime": {
     "end_time": "2023-09-14T14:02:25.118295100Z",
     "start_time": "2023-09-14T14:02:25.115307300Z"
    }
   },
   "id": "4793e223a8adf9b5"
  },
  {
   "cell_type": "code",
   "execution_count": 47,
   "outputs": [],
   "source": [
    "train_labels = one_hot_encoder(raw_train_labels)"
   ],
   "metadata": {
    "collapsed": false,
    "ExecuteTime": {
     "end_time": "2023-09-14T14:02:25.155279300Z",
     "start_time": "2023-09-14T14:02:25.120300500Z"
    }
   },
   "id": "5cb2495ef95192ae"
  },
  {
   "cell_type": "code",
   "execution_count": 48,
   "outputs": [],
   "source": [
    "test_batch = unpickle('cifar-10-batches-py/test_batch')\n",
    "test_images, raw_test_labels = process_batch(test_batch)"
   ],
   "metadata": {
    "collapsed": false,
    "ExecuteTime": {
     "end_time": "2023-09-14T14:02:25.353956300Z",
     "start_time": "2023-09-14T14:02:25.156278200Z"
    }
   },
   "id": "ed8e4f930faef21a"
  },
  {
   "cell_type": "code",
   "execution_count": 49,
   "outputs": [],
   "source": [
    "test_labels = one_hot_encoder(raw_test_labels)"
   ],
   "metadata": {
    "collapsed": false,
    "ExecuteTime": {
     "end_time": "2023-09-14T14:02:25.364981800Z",
     "start_time": "2023-09-14T14:02:25.354967900Z"
    }
   },
   "id": "a35f522392e1feb7"
  },
  {
   "cell_type": "code",
   "execution_count": 50,
   "outputs": [],
   "source": [
    "meta_data = unpickle('cifar-10-batches-py/batches.meta')\n",
    "label_names = list(map(bytes.decode, meta_data[b'label_names']))"
   ],
   "metadata": {
    "collapsed": false,
    "ExecuteTime": {
     "end_time": "2023-09-14T14:02:25.373592900Z",
     "start_time": "2023-09-14T14:02:25.368981200Z"
    }
   },
   "id": "65c91c6788fb9758"
  },
  {
   "cell_type": "code",
   "execution_count": 51,
   "outputs": [],
   "source": [
    "def model(x: np.ndarray, weights: np.ndarray) -> np.ndarray:\n",
    "    res = np.matmul(weights, x.reshape((-1, 1))) \n",
    "    return res / np.max(res)"
   ],
   "metadata": {
    "collapsed": false,
    "ExecuteTime": {
     "end_time": "2023-09-14T14:02:25.388864200Z",
     "start_time": "2023-09-14T14:02:25.375593300Z"
    }
   },
   "id": "a20489e4268154e6"
  },
  {
   "cell_type": "code",
   "execution_count": 52,
   "outputs": [],
   "source": [
    "def softmax(x):\n",
    "    exp = np.exp(x)\n",
    "    return exp / np.sum(exp)\n",
    "\n",
    "\n",
    "def loss(predicted, true):\n",
    "    return -np.dot(true, np.log(predicted))"
   ],
   "metadata": {
    "collapsed": false,
    "ExecuteTime": {
     "end_time": "2023-09-14T14:02:25.389864300Z",
     "start_time": "2023-09-14T14:02:25.380649700Z"
    }
   },
   "id": "79bcd3eb4d9af8a"
  },
  {
   "cell_type": "code",
   "execution_count": 53,
   "outputs": [
    {
     "name": "stderr",
     "output_type": "stream",
     "text": [
      "  0%|          | 0/100 [00:00<?, ?it/s]C:\\Users\\peppa\\AppData\\Local\\Temp\\ipykernel_9692\\459627731.py:2: RuntimeWarning: overflow encountered in exp\n",
      "  exp = np.exp(x)\n",
      "C:\\Users\\peppa\\AppData\\Local\\Temp\\ipykernel_9692\\459627731.py:3: RuntimeWarning: invalid value encountered in divide\n",
      "  return exp / np.sum(exp)\n",
      "C:\\Users\\peppa\\AppData\\Local\\Temp\\ipykernel_9692\\459627731.py:7: RuntimeWarning: divide by zero encountered in log\n",
      "  return -np.dot(true, np.log(predicted))\n",
      "100%|██████████| 100/100 [08:01<00:00,  4.82s/it]"
     ]
    },
    {
     "name": "stdout",
     "output_type": "stream",
     "text": [
      "minimal loss: 2.370082459785033\n"
     ]
    },
    {
     "name": "stderr",
     "output_type": "stream",
     "text": [
      "\n"
     ]
    }
   ],
   "source": [
    "best_weights = None\n",
    "min_loss = inf\n",
    "\n",
    "for i in tqdm(range(100)):\n",
    "    w = np.random.randn(10, 32 * 32 * 3)\n",
    "    current_losses = []\n",
    "    for label, image in zip(train_labels, train_images):\n",
    "        prediction = softmax(model(image, w))\n",
    "        current_losses.append(loss(prediction, label))\n",
    "    mean_loss = np.mean(current_losses)\n",
    "    if min_loss > mean_loss:\n",
    "        best_weights = w\n",
    "        min_loss = mean_loss\n",
    "\n",
    "print(f'minimal loss: {min_loss}')"
   ],
   "metadata": {
    "collapsed": false,
    "ExecuteTime": {
     "end_time": "2023-09-14T14:10:27.091699600Z",
     "start_time": "2023-09-14T14:02:25.394868300Z"
    }
   },
   "id": "9df05d4703bba54a"
  },
  {
   "cell_type": "code",
   "execution_count": 54,
   "outputs": [],
   "source": [
    "predicted_labels = []\n",
    "true_labels = []\n",
    "\n",
    "for label, image in zip(test_labels, test_images):\n",
    "    y = np.matmul(best_weights, image.reshape((-1, 1))) \n",
    "    predicted_labels.append(np.argmax(y))\n",
    "    true_labels.append(np.argmax(label))\n",
    "accuracy = sum([int(predicted == true) for predicted, true in zip(predicted_labels, true_labels)]) / len(predicted_labels)"
   ],
   "metadata": {
    "collapsed": false,
    "ExecuteTime": {
     "end_time": "2023-09-14T14:10:27.826628400Z",
     "start_time": "2023-09-14T14:10:27.095147Z"
    }
   },
   "id": "d607b51704f1b153"
  },
  {
   "cell_type": "code",
   "execution_count": 55,
   "outputs": [
    {
     "data": {
      "text/plain": "0.1103"
     },
     "execution_count": 55,
     "metadata": {},
     "output_type": "execute_result"
    }
   ],
   "source": [
    "accuracy"
   ],
   "metadata": {
    "collapsed": false,
    "ExecuteTime": {
     "end_time": "2023-09-14T14:10:27.833809400Z",
     "start_time": "2023-09-14T14:10:27.828506400Z"
    }
   },
   "id": "375b4e8133d17bdf"
  },
  {
   "cell_type": "code",
   "execution_count": null,
   "outputs": [],
   "source": [],
   "metadata": {
    "collapsed": false
   },
   "id": "b8bb9c0f881ec2a8"
  }
 ],
 "metadata": {
  "kernelspec": {
   "display_name": "Python 3",
   "language": "python",
   "name": "python3"
  },
  "language_info": {
   "codemirror_mode": {
    "name": "ipython",
    "version": 2
   },
   "file_extension": ".py",
   "mimetype": "text/x-python",
   "name": "python",
   "nbconvert_exporter": "python",
   "pygments_lexer": "ipython2",
   "version": "2.7.6"
  }
 },
 "nbformat": 4,
 "nbformat_minor": 5
}
