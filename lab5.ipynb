{
 "cells": [
  {
   "cell_type": "code",
   "execution_count": 2,
   "outputs": [],
   "source": [
    "import numpy as np\n",
    "from itertools import product"
   ],
   "metadata": {
    "collapsed": false,
    "ExecuteTime": {
     "end_time": "2023-10-01T10:42:57.941279Z",
     "start_time": "2023-10-01T10:42:57.848352800Z"
    }
   },
   "id": "c297b1e1533e7144"
  },
  {
   "cell_type": "code",
   "execution_count": 3,
   "id": "initial_id",
   "metadata": {
    "collapsed": true,
    "ExecuteTime": {
     "end_time": "2023-10-01T10:42:58.034559500Z",
     "start_time": "2023-10-01T10:42:58.029034100Z"
    }
   },
   "outputs": [],
   "source": [
    "class Softmax:\n",
    "    def __init__(self):\n",
    "        self.output: np.ndarray = np.array([])\n",
    "    \n",
    "    def __call__(self, x: np.ndarray, normalization=True) -> np.ndarray:\n",
    "        if normalization:\n",
    "            exponents = np.exp(x - np.max(x))\n",
    "        else:\n",
    "            exponents = np.exp(x)\n",
    "        \n",
    "        self.output = exponents / np.sum(exponents)\n",
    "        \n",
    "        return self.output\n",
    "    \n",
    "    def backward(self, error: np.ndarray) -> np.ndarray:\n",
    "        gradient = np.zeros((self.output.shape[0], self.output.shape[0]))\n",
    "        for i, j in product(range(self.output.shape[0]), range(self.output.shape[0])):\n",
    "            gradient[i, j] = self.output[i] * (1 - self.output[j]) if i == j else -self.output[i] * self.output[j]\n",
    "        return error.dot(gradient)"
   ]
  },
  {
   "cell_type": "code",
   "execution_count": 5,
   "outputs": [],
   "source": [
    "class ReLU:\n",
    "    def __init__(self):\n",
    "        self.output: np.ndarray = np.array([])\n",
    "        \n",
    "    def __call__(self, x: np.ndarray):\n",
    "        self.output = np.maximum(x, 0)\n",
    "        return self.output\n",
    "    \n",
    "    def backward(self, error: np.ndarray):\n",
    "        gradient = np.piecewise(self.output, [self.output <= 0, self.output > 0], [0, 1])\n",
    "        return error.dot(gradient)"
   ],
   "metadata": {
    "collapsed": false,
    "ExecuteTime": {
     "end_time": "2023-10-01T10:53:50.643869300Z",
     "start_time": "2023-10-01T10:53:50.633238200Z"
    }
   },
   "id": "8b1b3ac89f8819e1"
  },
  {
   "cell_type": "code",
   "execution_count": null,
   "outputs": [],
   "source": [
    "class Dense:\n",
    "    def __init__(self, input_shape: int, output_shape: int):\n",
    "        self.weights: np.ndarray = np.random.rand(output_shape, input_shape)\n",
    "        self.input: np.ndarray = np.array([])\n",
    "        self.output: np.ndarray = np.array([])\n",
    "    \n",
    "    def __call__(self, x: np.ndarray):\n",
    "        self.output = self.weights.dot(x)\n",
    "        return self.output\n",
    "    \n",
    "    def backward(self, error: np.ndarray, learning_rate=0.001):\n",
    "        input_error = self.weights.T @ error\n",
    "        self.weights -= learning_rate * error.dot(self.input.T)\n",
    "        return input_error"
   ],
   "metadata": {
    "collapsed": false
   },
   "id": "f3e9474fdf9a06cd"
  }
 ],
 "metadata": {
  "kernelspec": {
   "display_name": "Python 3",
   "language": "python",
   "name": "python3"
  },
  "language_info": {
   "codemirror_mode": {
    "name": "ipython",
    "version": 2
   },
   "file_extension": ".py",
   "mimetype": "text/x-python",
   "name": "python",
   "nbconvert_exporter": "python",
   "pygments_lexer": "ipython2",
   "version": "2.7.6"
  }
 },
 "nbformat": 4,
 "nbformat_minor": 5
}
