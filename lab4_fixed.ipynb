{
 "cells": [
  {
   "cell_type": "code",
   "execution_count": 1,
   "id": "initial_id",
   "metadata": {
    "collapsed": true,
    "ExecuteTime": {
     "end_time": "2023-09-29T05:02:54.675345900Z",
     "start_time": "2023-09-29T05:02:54.447570400Z"
    }
   },
   "outputs": [],
   "source": [
    "import numpy as np\n",
    "\n",
    "\n",
    "class Softmax:\n",
    "    def __init__(self):\n",
    "        self.output: np.ndarray = np.array([])\n",
    "    \n",
    "    def __call__(self, x: np.ndarray, normalization=True) -> np.ndarray:\n",
    "        if normalization:\n",
    "            exponents = np.exp(x - np.max(x, axis=1, keepdims=True))\n",
    "        else:\n",
    "            exponents = np.exp(x)\n",
    "        \n",
    "        self.output = exponents / np.sum(exponents, axis=1, keepdims=True)\n",
    "        \n",
    "        return self.output\n",
    "    \n",
    "    def backward(self) -> np.ndarray:\n",
    "        gradients: list[np.ndarray] = []\n",
    "        for batch in self.output:\n",
    "            current_gradient = np.zeros((batch.shape[0], batch.shape[0]))\n",
    "            for i in range(batch.shape[0]):\n",
    "                for j in range(batch.shape[0]):\n",
    "                    current_gradient[i, j] = batch[i] * (1 - batch[j]) if i == j else -batch[i] * batch[j]\n",
    "            gradients.append(current_gradient)\n",
    "        return np.array(gradients)\n"
   ]
  },
  {
   "cell_type": "code",
   "execution_count": 15,
   "outputs": [
    {
     "name": "stdout",
     "output_type": "stream",
     "text": [
      "output:\n",
      "[[1.16562310e-02 3.16849208e-02 8.61285444e-02 2.34121657e-01\n",
      "  6.36408647e-01]\n",
      " [6.36408647e-01 2.34121657e-01 8.61285444e-02 3.16849208e-02\n",
      "  1.16562310e-02]\n",
      " [4.54370855e-05 4.54825454e-05 4.54598098e-05 4.55280507e-05\n",
      "  9.99818093e-01]]\n",
      "backpropagation:\n",
      "[[[ 1.15203632e-02 -3.69326755e-04 -1.00393421e-03 -2.72897611e-03\n",
      "   -7.41812617e-03]\n",
      "  [-3.69326755e-04  3.06809866e-02 -2.72897611e-03 -7.41812617e-03\n",
      "   -2.01645576e-02]\n",
      "  [-1.00393421e-03 -2.72897611e-03  7.87104183e-02 -2.01645576e-02\n",
      "   -5.48129504e-02]\n",
      "  [-2.72897611e-03 -7.41812617e-03 -2.01645576e-02  1.79308707e-01\n",
      "   -1.48997047e-01]\n",
      "  [-7.41812617e-03 -2.01645576e-02 -5.48129504e-02 -1.48997047e-01\n",
      "    2.31392681e-01]]\n",
      "\n",
      " [[ 2.31392681e-01 -1.48997047e-01 -5.48129504e-02 -2.01645576e-02\n",
      "   -7.41812617e-03]\n",
      "  [-1.48997047e-01  1.79308707e-01 -2.01645576e-02 -7.41812617e-03\n",
      "   -2.72897611e-03]\n",
      "  [-5.48129504e-02 -2.01645576e-02  7.87104183e-02 -2.72897611e-03\n",
      "   -1.00393421e-03]\n",
      "  [-2.01645576e-02 -7.41812617e-03 -2.72897611e-03  3.06809866e-02\n",
      "   -3.69326755e-04]\n",
      "  [-7.41812617e-03 -2.72897611e-03 -1.00393421e-03 -3.69326755e-04\n",
      "    1.15203632e-02]]\n",
      "\n",
      " [[ 4.54350210e-05 -2.06659430e-09 -2.06556127e-09 -2.06866193e-09\n",
      "   -4.54288202e-05]\n",
      "  [-2.06659430e-09  4.54804767e-05 -2.06762786e-09 -2.07073163e-09\n",
      "   -4.54742717e-05]\n",
      "  [-2.06556127e-09 -2.06762786e-09  4.54577432e-05 -2.06969652e-09\n",
      "   -4.54515403e-05]\n",
      "  [-2.06866193e-09 -2.07073163e-09 -2.06969652e-09  4.55259779e-05\n",
      "   -4.55197688e-05]\n",
      "  [-4.54288202e-05 -4.54742717e-05 -4.54515403e-05 -4.55197688e-05\n",
      "    1.81874401e-04]]]\n"
     ]
    }
   ],
   "source": [
    "x = np.array([[1, 2, 3, 4, 5],\n",
    "              [5, 4, 3, 2, 1],\n",
    "              [0.001, 0.002, 0.0015, 0.003, 10]])\n",
    "\n",
    "# example with normalization\n",
    "softmax_layer = Softmax()\n",
    "print(f'output:\\n{softmax_layer(x)}')\n",
    "print(f'backpropagation:\\n{softmax_layer.backward()}')"
   ],
   "metadata": {
    "collapsed": false,
    "ExecuteTime": {
     "end_time": "2023-09-29T05:09:13.517610600Z",
     "start_time": "2023-09-29T05:09:13.506560300Z"
    }
   },
   "id": "bb377039c4883da"
  },
  {
   "cell_type": "code",
   "execution_count": 16,
   "outputs": [
    {
     "name": "stdout",
     "output_type": "stream",
     "text": [
      "output:\n",
      "[[1.16562310e-02 3.16849208e-02 8.61285444e-02 2.34121657e-01\n",
      "  6.36408647e-01]\n",
      " [6.36408647e-01 2.34121657e-01 8.61285444e-02 3.16849208e-02\n",
      "  1.16562310e-02]\n",
      " [4.54370855e-05 4.54825454e-05 4.54598098e-05 4.55280507e-05\n",
      "  9.99818093e-01]]\n",
      "backpropagation:\n",
      "[[[ 1.15203632e-02 -3.69326755e-04 -1.00393421e-03 -2.72897611e-03\n",
      "   -7.41812617e-03]\n",
      "  [-3.69326755e-04  3.06809866e-02 -2.72897611e-03 -7.41812617e-03\n",
      "   -2.01645576e-02]\n",
      "  [-1.00393421e-03 -2.72897611e-03  7.87104183e-02 -2.01645576e-02\n",
      "   -5.48129504e-02]\n",
      "  [-2.72897611e-03 -7.41812617e-03 -2.01645576e-02  1.79308707e-01\n",
      "   -1.48997047e-01]\n",
      "  [-7.41812617e-03 -2.01645576e-02 -5.48129504e-02 -1.48997047e-01\n",
      "    2.31392681e-01]]\n",
      "\n",
      " [[ 2.31392681e-01 -1.48997047e-01 -5.48129504e-02 -2.01645576e-02\n",
      "   -7.41812617e-03]\n",
      "  [-1.48997047e-01  1.79308707e-01 -2.01645576e-02 -7.41812617e-03\n",
      "   -2.72897611e-03]\n",
      "  [-5.48129504e-02 -2.01645576e-02  7.87104183e-02 -2.72897611e-03\n",
      "   -1.00393421e-03]\n",
      "  [-2.01645576e-02 -7.41812617e-03 -2.72897611e-03  3.06809866e-02\n",
      "   -3.69326755e-04]\n",
      "  [-7.41812617e-03 -2.72897611e-03 -1.00393421e-03 -3.69326755e-04\n",
      "    1.15203632e-02]]\n",
      "\n",
      " [[ 4.54350210e-05 -2.06659430e-09 -2.06556127e-09 -2.06866193e-09\n",
      "   -4.54288202e-05]\n",
      "  [-2.06659430e-09  4.54804767e-05 -2.06762786e-09 -2.07073163e-09\n",
      "   -4.54742717e-05]\n",
      "  [-2.06556127e-09 -2.06762786e-09  4.54577432e-05 -2.06969652e-09\n",
      "   -4.54515403e-05]\n",
      "  [-2.06866193e-09 -2.07073163e-09 -2.06969652e-09  4.55259779e-05\n",
      "   -4.55197688e-05]\n",
      "  [-4.54288202e-05 -4.54742717e-05 -4.54515403e-05 -4.55197688e-05\n",
      "    1.81874401e-04]]]\n"
     ]
    }
   ],
   "source": [
    "# example without normalization\n",
    "softmax_wo_norm_layer = Softmax()\n",
    "print(f'output:\\n{softmax_wo_norm_layer(x)}')\n",
    "print(f'backpropagation:\\n{softmax_wo_norm_layer.backward()}')"
   ],
   "metadata": {
    "collapsed": false,
    "ExecuteTime": {
     "end_time": "2023-09-29T05:09:13.741674600Z",
     "start_time": "2023-09-29T05:09:13.733699700Z"
    }
   },
   "id": "66f995e1866737a3"
  },
  {
   "cell_type": "code",
   "execution_count": null,
   "outputs": [],
   "source": [],
   "metadata": {
    "collapsed": false
   },
   "id": "7afb767cb5905841"
  }
 ],
 "metadata": {
  "kernelspec": {
   "display_name": "Python 3",
   "language": "python",
   "name": "python3"
  },
  "language_info": {
   "codemirror_mode": {
    "name": "ipython",
    "version": 2
   },
   "file_extension": ".py",
   "mimetype": "text/x-python",
   "name": "python",
   "nbconvert_exporter": "python",
   "pygments_lexer": "ipython2",
   "version": "2.7.6"
  }
 },
 "nbformat": 4,
 "nbformat_minor": 5
}
